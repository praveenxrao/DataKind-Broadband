{
 "cells": [
  {
   "cell_type": "code",
   "execution_count": 1,
   "metadata": {
    "collapsed": true
   },
   "outputs": [],
   "source": [
    "import glob\n",
    "import pandas as pd\n",
    "import pyarrow.parquet as pq"
   ]
  },
  {
   "cell_type": "code",
   "execution_count": 2,
   "outputs": [],
   "source": [
    "#data_file = '../data/parquet/2019-01-01_performance_fixed_tiles.parquet'\n",
    "data_dir = '/Users/praveenrao/Google Drive/DataKind/Broadband/data/parquet'"
   ],
   "metadata": {
    "collapsed": false,
    "pycharm": {
     "name": "#%%\n"
    }
   }
  },
  {
   "cell_type": "code",
   "execution_count": 3,
   "outputs": [],
   "source": [
    "df_fixed = pd.concat([pq.read_table(source=f).to_pandas() for f in glob.glob(data_dir + '/*_fixed_*.parquet')], ignore_index=True)"
   ],
   "metadata": {
    "collapsed": false,
    "pycharm": {
     "name": "#%%\n"
    }
   }
  },
  {
   "cell_type": "code",
   "execution_count": 9,
   "outputs": [
    {
     "name": "stdout",
     "output_type": "stream",
     "text": [
      "/Users/praveenrao/Google Drive/DataKind/Broadband/data/parquet/2019-04-01_performance_fixed_tiles.parquet\n",
      "/Users/praveenrao/Google Drive/DataKind/Broadband/data/parquet/2019-10-01_performance_fixed_tiles.parquet\n",
      "/Users/praveenrao/Google Drive/DataKind/Broadband/data/parquet/2019-07-01_performance_fixed_tiles.parquet\n",
      "/Users/praveenrao/Google Drive/DataKind/Broadband/data/parquet/2019-01-01_performance_fixed_tiles.parquet\n",
      "/Users/praveenrao/Google Drive/DataKind/Broadband/data/parquet/2020-07-01_performance_fixed_tiles.parquet\n",
      "/Users/praveenrao/Google Drive/DataKind/Broadband/data/parquet/2020-01-01_performance_fixed_tiles.parquet\n",
      "/Users/praveenrao/Google Drive/DataKind/Broadband/data/parquet/2020-04-01_performance_fixed_tiles.parquet\n",
      "/Users/praveenrao/Google Drive/DataKind/Broadband/data/parquet/2020-10-01_performance_fixed_tiles.parquet\n",
      "/Users/praveenrao/Google Drive/DataKind/Broadband/data/parquet/2021-01-01_performance_fixed_tiles.parquet\n",
      "/Users/praveenrao/Google Drive/DataKind/Broadband/data/parquet/2021-04-01_performance_fixed_tiles.parquet\n"
     ]
    }
   ],
   "source": [
    "df_list = []\n",
    "bb_type = 'fixed'\n",
    "for year in [2019, 2020, 2021]:\n",
    "    for file in glob.glob(data_dir + '/' + str(year) + '*_' + bb_type + '_*.parquet'):\n",
    "        print(file)\n",
    "        df = pq.read_table(source=file).to_pandas()\n",
    "        df['year'] = year\n",
    "        df['bb_type'] = bb_type\n",
    "        df_list.append(df)"
   ],
   "metadata": {
    "collapsed": false,
    "pycharm": {
     "name": "#%%\n"
    }
   }
  },
  {
   "cell_type": "code",
   "execution_count": 10,
   "outputs": [],
   "source": [
    "df_fixed = pd.concat(df_list)"
   ],
   "metadata": {
    "collapsed": false,
    "pycharm": {
     "name": "#%%\n"
    }
   }
  },
  {
   "cell_type": "code",
   "execution_count": null,
   "outputs": [],
   "source": [],
   "metadata": {
    "collapsed": false,
    "pycharm": {
     "name": "#%%\n"
    }
   }
  },
  {
   "cell_type": "code",
   "execution_count": 11,
   "outputs": [
    {
     "name": "stdout",
     "output_type": "stream",
     "text": [
      "<class 'pandas.core.frame.DataFrame'>\n",
      "Int64Index: 61917481 entries, 0 to 6694233\n",
      "Data columns (total 9 columns):\n",
      " #   Column      Dtype \n",
      "---  ------      ----- \n",
      " 0   quadkey     object\n",
      " 1   tile        object\n",
      " 2   avg_d_kbps  int64 \n",
      " 3   avg_u_kbps  int64 \n",
      " 4   avg_lat_ms  int64 \n",
      " 5   tests       int64 \n",
      " 6   devices     int64 \n",
      " 7   year        int64 \n",
      " 8   bb_type     object\n",
      "dtypes: int64(6), object(3)\n",
      "memory usage: 4.6+ GB\n"
     ]
    }
   ],
   "source": [
    "df_fixed.info()"
   ],
   "metadata": {
    "collapsed": false,
    "pycharm": {
     "name": "#%%\n"
    }
   }
  },
  {
   "cell_type": "code",
   "execution_count": 12,
   "outputs": [
    {
     "data": {
      "text/plain": "            quadkey                                               tile  \\\n0  3112231122203110  POLYGON((144.920654296875 -37.6142314154242, 1...   \n1  0231123033301330  POLYGON((-97.130126953125 33.2570634023655, -9...   \n2  0231033130220100  POLYGON((-101.93115234375 33.5047590692261, -1...   \n3  0233102110002012  POLYGON((-99.129638671875 19.2644798004971, -9...   \n4  0231322223022233  POLYGON((-100.881958007812 22.1110880653077, -...   \n\n   avg_d_kbps  avg_u_kbps  avg_lat_ms  tests  devices  year bb_type  \n0       37621       18081          13    105       35  2019   fixed  \n1      165881       30946          10     71        5  2019   fixed  \n2      158905      142679          14      8        6  2019   fixed  \n3       25166        5245          54    351       42  2019   fixed  \n4       19321        6858          47    110       21  2019   fixed  ",
      "text/html": "<div>\n<style scoped>\n    .dataframe tbody tr th:only-of-type {\n        vertical-align: middle;\n    }\n\n    .dataframe tbody tr th {\n        vertical-align: top;\n    }\n\n    .dataframe thead th {\n        text-align: right;\n    }\n</style>\n<table border=\"1\" class=\"dataframe\">\n  <thead>\n    <tr style=\"text-align: right;\">\n      <th></th>\n      <th>quadkey</th>\n      <th>tile</th>\n      <th>avg_d_kbps</th>\n      <th>avg_u_kbps</th>\n      <th>avg_lat_ms</th>\n      <th>tests</th>\n      <th>devices</th>\n      <th>year</th>\n      <th>bb_type</th>\n    </tr>\n  </thead>\n  <tbody>\n    <tr>\n      <th>0</th>\n      <td>3112231122203110</td>\n      <td>POLYGON((144.920654296875 -37.6142314154242, 1...</td>\n      <td>37621</td>\n      <td>18081</td>\n      <td>13</td>\n      <td>105</td>\n      <td>35</td>\n      <td>2019</td>\n      <td>fixed</td>\n    </tr>\n    <tr>\n      <th>1</th>\n      <td>0231123033301330</td>\n      <td>POLYGON((-97.130126953125 33.2570634023655, -9...</td>\n      <td>165881</td>\n      <td>30946</td>\n      <td>10</td>\n      <td>71</td>\n      <td>5</td>\n      <td>2019</td>\n      <td>fixed</td>\n    </tr>\n    <tr>\n      <th>2</th>\n      <td>0231033130220100</td>\n      <td>POLYGON((-101.93115234375 33.5047590692261, -1...</td>\n      <td>158905</td>\n      <td>142679</td>\n      <td>14</td>\n      <td>8</td>\n      <td>6</td>\n      <td>2019</td>\n      <td>fixed</td>\n    </tr>\n    <tr>\n      <th>3</th>\n      <td>0233102110002012</td>\n      <td>POLYGON((-99.129638671875 19.2644798004971, -9...</td>\n      <td>25166</td>\n      <td>5245</td>\n      <td>54</td>\n      <td>351</td>\n      <td>42</td>\n      <td>2019</td>\n      <td>fixed</td>\n    </tr>\n    <tr>\n      <th>4</th>\n      <td>0231322223022233</td>\n      <td>POLYGON((-100.881958007812 22.1110880653077, -...</td>\n      <td>19321</td>\n      <td>6858</td>\n      <td>47</td>\n      <td>110</td>\n      <td>21</td>\n      <td>2019</td>\n      <td>fixed</td>\n    </tr>\n  </tbody>\n</table>\n</div>"
     },
     "execution_count": 12,
     "metadata": {},
     "output_type": "execute_result"
    }
   ],
   "source": [
    "df_fixed.head()"
   ],
   "metadata": {
    "collapsed": false,
    "pycharm": {
     "name": "#%%\n"
    }
   }
  },
  {
   "cell_type": "code",
   "execution_count": null,
   "outputs": [],
   "source": [
    "# Load raw data\n",
    "\n",
    "#df = pd.read_csv(data_file)\n"
   ],
   "metadata": {
    "collapsed": false,
    "pycharm": {
     "name": "#%%\n"
    }
   }
  },
  {
   "cell_type": "code",
   "execution_count": 14,
   "outputs": [
    {
     "data": {
      "text/plain": "                  quadkey                                               tile  \\\n2662211  0231113112003202  POLYGON((-90.6591796875 38.4922941923613, -90....   \n934850   0231113112003202  POLYGON((-90.6591796875 38.4922941923613, -90....   \n72995    0231113112003202  POLYGON((-90.6591796875 38.4922941923613, -90....   \n0        0231113112003202  POLYGON((-90.6591796875 38.4922941923613, -90....   \n2637481  0231113112003202  POLYGON((-90.6591796875 38.4922941923613, -90....   \n\n         avg_d_kbps  avg_u_kbps  avg_lat_ms  tests  devices  year bb_type  \n2662211      114282       10689          15     33        7  2019   fixed  \n934850       150100       12520          13     17       11  2019   fixed  \n72995        119874       14327          12     17        8  2019   fixed  \n0             66216       12490          13     28        4  2019   fixed  \n2637481      113131       10533         116     18        8  2020   fixed  ",
      "text/html": "<div>\n<style scoped>\n    .dataframe tbody tr th:only-of-type {\n        vertical-align: middle;\n    }\n\n    .dataframe tbody tr th {\n        vertical-align: top;\n    }\n\n    .dataframe thead th {\n        text-align: right;\n    }\n</style>\n<table border=\"1\" class=\"dataframe\">\n  <thead>\n    <tr style=\"text-align: right;\">\n      <th></th>\n      <th>quadkey</th>\n      <th>tile</th>\n      <th>avg_d_kbps</th>\n      <th>avg_u_kbps</th>\n      <th>avg_lat_ms</th>\n      <th>tests</th>\n      <th>devices</th>\n      <th>year</th>\n      <th>bb_type</th>\n    </tr>\n  </thead>\n  <tbody>\n    <tr>\n      <th>2662211</th>\n      <td>0231113112003202</td>\n      <td>POLYGON((-90.6591796875 38.4922941923613, -90....</td>\n      <td>114282</td>\n      <td>10689</td>\n      <td>15</td>\n      <td>33</td>\n      <td>7</td>\n      <td>2019</td>\n      <td>fixed</td>\n    </tr>\n    <tr>\n      <th>934850</th>\n      <td>0231113112003202</td>\n      <td>POLYGON((-90.6591796875 38.4922941923613, -90....</td>\n      <td>150100</td>\n      <td>12520</td>\n      <td>13</td>\n      <td>17</td>\n      <td>11</td>\n      <td>2019</td>\n      <td>fixed</td>\n    </tr>\n    <tr>\n      <th>72995</th>\n      <td>0231113112003202</td>\n      <td>POLYGON((-90.6591796875 38.4922941923613, -90....</td>\n      <td>119874</td>\n      <td>14327</td>\n      <td>12</td>\n      <td>17</td>\n      <td>8</td>\n      <td>2019</td>\n      <td>fixed</td>\n    </tr>\n    <tr>\n      <th>0</th>\n      <td>0231113112003202</td>\n      <td>POLYGON((-90.6591796875 38.4922941923613, -90....</td>\n      <td>66216</td>\n      <td>12490</td>\n      <td>13</td>\n      <td>28</td>\n      <td>4</td>\n      <td>2019</td>\n      <td>fixed</td>\n    </tr>\n    <tr>\n      <th>2637481</th>\n      <td>0231113112003202</td>\n      <td>POLYGON((-90.6591796875 38.4922941923613, -90....</td>\n      <td>113131</td>\n      <td>10533</td>\n      <td>116</td>\n      <td>18</td>\n      <td>8</td>\n      <td>2020</td>\n      <td>fixed</td>\n    </tr>\n  </tbody>\n</table>\n</div>"
     },
     "execution_count": 14,
     "metadata": {},
     "output_type": "execute_result"
    }
   ],
   "source": [
    "df_fixed[df_fixed['quadkey'] == '0231113112003202'].head()"
   ],
   "metadata": {
    "collapsed": false,
    "pycharm": {
     "name": "#%%\n"
    }
   }
  },
  {
   "cell_type": "code",
   "execution_count": 13,
   "outputs": [
    {
     "data": {
      "text/plain": "array([2019, 2020, 2021])"
     },
     "execution_count": 13,
     "metadata": {},
     "output_type": "execute_result"
    }
   ],
   "source": [
    "df_fixed.year.unique()"
   ],
   "metadata": {
    "collapsed": false,
    "pycharm": {
     "name": "#%%\n"
    }
   }
  },
  {
   "cell_type": "code",
   "execution_count": null,
   "outputs": [],
   "source": [
    "df_fixed_yearly = df_fixed.groupby(['year','bb_type','quadkey','tile']).agg(\n",
    "    avg_d_kbps = pd.NamedAgg(column='avg_d_kbps', aggfunc='mean'),\n",
    "    avg_u_kbps = pd.NamedAgg(column='avg_u_kbps', aggfunc='mean'),\n",
    "    avg_lat_ms = pd.NamedAgg(column='avg_lat_ms', aggfunc='mean'),\n",
    "    tests = pd.NamedAgg(column='tests', aggfunc='mean'),\n",
    "    devices = pd.NamedAgg(column='devices', aggfunc='mean')\n",
    ").reset_index()"
   ],
   "metadata": {
    "collapsed": false,
    "pycharm": {
     "name": "#%%\n",
     "is_executing": true
    }
   }
  },
  {
   "cell_type": "code",
   "execution_count": null,
   "outputs": [],
   "source": [
    "df_fixed_yearly.info()"
   ],
   "metadata": {
    "collapsed": false,
    "pycharm": {
     "name": "#%%\n"
    }
   }
  },
  {
   "cell_type": "code",
   "execution_count": null,
   "outputs": [],
   "source": [
    "df_fixed_yearly.head()\n"
   ],
   "metadata": {
    "collapsed": false,
    "pycharm": {
     "name": "#%%\n"
    }
   }
  }
 ],
 "metadata": {
  "kernelspec": {
   "display_name": "Python 3",
   "language": "python",
   "name": "python3"
  },
  "language_info": {
   "codemirror_mode": {
    "name": "ipython",
    "version": 2
   },
   "file_extension": ".py",
   "mimetype": "text/x-python",
   "name": "python",
   "nbconvert_exporter": "python",
   "pygments_lexer": "ipython2",
   "version": "2.7.6"
  }
 },
 "nbformat": 4,
 "nbformat_minor": 0
}