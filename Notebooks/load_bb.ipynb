{
 "cells": [
  {
   "cell_type": "code",
   "execution_count": 1,
   "metadata": {
    "collapsed": true
   },
   "outputs": [],
   "source": [
    "import glob\n",
    "import pandas as pd\n",
    "import pyarrow.parquet as pq"
   ]
  },
  {
   "cell_type": "code",
   "execution_count": 2,
   "outputs": [],
   "source": [
    "#data_file = '../data/parquet/2019-01-01_performance_fixed_tiles.parquet'\n",
    "data_dir = '/Users/praveenrao/Google Drive/DataKind/Broadband/data/parquet'"
   ],
   "metadata": {
    "collapsed": false,
    "pycharm": {
     "name": "#%%\n"
    }
   }
  },
  {
   "cell_type": "code",
   "execution_count": 3,
   "outputs": [],
   "source": [
    "df_fixed = pd.concat([pq.read_table(source=f).to_pandas() for f in glob.glob(data_dir + '/*_fixed_*.parquet')], ignore_index=True)"
   ],
   "metadata": {
    "collapsed": false,
    "pycharm": {
     "name": "#%%\n"
    }
   }
  },
  {
   "cell_type": "code",
   "execution_count": 9,
   "outputs": [
    {
     "name": "stdout",
     "output_type": "stream",
     "text": [
      "/Users/praveenrao/Google Drive/DataKind/Broadband/data/parquet/2019-04-01_performance_fixed_tiles.parquet\n",
      "/Users/praveenrao/Google Drive/DataKind/Broadband/data/parquet/2019-10-01_performance_fixed_tiles.parquet\n",
      "/Users/praveenrao/Google Drive/DataKind/Broadband/data/parquet/2019-07-01_performance_fixed_tiles.parquet\n",
      "/Users/praveenrao/Google Drive/DataKind/Broadband/data/parquet/2019-01-01_performance_fixed_tiles.parquet\n",
      "/Users/praveenrao/Google Drive/DataKind/Broadband/data/parquet/2020-07-01_performance_fixed_tiles.parquet\n",
      "/Users/praveenrao/Google Drive/DataKind/Broadband/data/parquet/2020-01-01_performance_fixed_tiles.parquet\n",
      "/Users/praveenrao/Google Drive/DataKind/Broadband/data/parquet/2020-04-01_performance_fixed_tiles.parquet\n",
      "/Users/praveenrao/Google Drive/DataKind/Broadband/data/parquet/2020-10-01_performance_fixed_tiles.parquet\n",
      "/Users/praveenrao/Google Drive/DataKind/Broadband/data/parquet/2021-01-01_performance_fixed_tiles.parquet\n",
      "/Users/praveenrao/Google Drive/DataKind/Broadband/data/parquet/2021-04-01_performance_fixed_tiles.parquet\n"
     ]
    }
   ],
   "source": [
    "df_list = []\n",
    "bb_type = 'fixed'\n",
    "for year in [2019, 2020, 2021]:\n",
    "    for file in glob.glob(data_dir + '/' + str(year) + '*_' + bb_type + '_*.parquet'):\n",
    "        print(file)\n",
    "        df = pq.read_table(source=file).to_pandas()\n",
    "        df['year'] = year\n",
    "        df['bb_type'] = bb_type\n",
    "        df_list.append(df)"
   ],
   "metadata": {
    "collapsed": false,
    "pycharm": {
     "name": "#%%\n"
    }
   }
  },
  {
   "cell_type": "code",
   "execution_count": 10,
   "outputs": [],
   "source": [
    "df_fixed = pd.concat(df_list)"
   ],
   "metadata": {
    "collapsed": false,
    "pycharm": {
     "name": "#%%\n"
    }
   }
  },
  {
   "cell_type": "code",
   "execution_count": null,
   "outputs": [],
   "source": [],
   "metadata": {
    "collapsed": false,
    "pycharm": {
     "name": "#%%\n"
    }
   }
  },
  {
   "cell_type": "code",
   "execution_count": null,
   "outputs": [],
   "source": [
    "df_fixed.info()"
   ],
   "metadata": {
    "collapsed": false,
    "pycharm": {
     "name": "#%%\n",
     "is_executing": true
    }
   }
  },
  {
   "cell_type": "code",
   "execution_count": 7,
   "outputs": [
    {
     "data": {
      "text/plain": "            quadkey                                               tile  \\\n0  1233013313200301  POLYGON((78.4259033203125 17.4554725799728, 78...   \n1  0302231031021131  POLYGON((-80.4254150390625 44.5200100113399, -...   \n2  0302322122312111  POLYGON((-77.0416259765625 42.1308213018881, -...   \n3  0231121211030100  POLYGON((-97.27294921875 35.3890499669117, -97...   \n4  2103213003001301  POLYGON((-58.6395263671875 -34.6151266834622, ...   \n\n   avg_d_kbps  avg_u_kbps  avg_lat_ms  tests  devices  \n0       43426       44856           4    915      163  \n1       34684        1667         602      2        1  \n2       78753       33569          13      3        2  \n3      397666      290737           7     21        8  \n4       81641       42419           9     57       11  ",
      "text/html": "<div>\n<style scoped>\n    .dataframe tbody tr th:only-of-type {\n        vertical-align: middle;\n    }\n\n    .dataframe tbody tr th {\n        vertical-align: top;\n    }\n\n    .dataframe thead th {\n        text-align: right;\n    }\n</style>\n<table border=\"1\" class=\"dataframe\">\n  <thead>\n    <tr style=\"text-align: right;\">\n      <th></th>\n      <th>quadkey</th>\n      <th>tile</th>\n      <th>avg_d_kbps</th>\n      <th>avg_u_kbps</th>\n      <th>avg_lat_ms</th>\n      <th>tests</th>\n      <th>devices</th>\n    </tr>\n  </thead>\n  <tbody>\n    <tr>\n      <th>0</th>\n      <td>1233013313200301</td>\n      <td>POLYGON((78.4259033203125 17.4554725799728, 78...</td>\n      <td>43426</td>\n      <td>44856</td>\n      <td>4</td>\n      <td>915</td>\n      <td>163</td>\n    </tr>\n    <tr>\n      <th>1</th>\n      <td>0302231031021131</td>\n      <td>POLYGON((-80.4254150390625 44.5200100113399, -...</td>\n      <td>34684</td>\n      <td>1667</td>\n      <td>602</td>\n      <td>2</td>\n      <td>1</td>\n    </tr>\n    <tr>\n      <th>2</th>\n      <td>0302322122312111</td>\n      <td>POLYGON((-77.0416259765625 42.1308213018881, -...</td>\n      <td>78753</td>\n      <td>33569</td>\n      <td>13</td>\n      <td>3</td>\n      <td>2</td>\n    </tr>\n    <tr>\n      <th>3</th>\n      <td>0231121211030100</td>\n      <td>POLYGON((-97.27294921875 35.3890499669117, -97...</td>\n      <td>397666</td>\n      <td>290737</td>\n      <td>7</td>\n      <td>21</td>\n      <td>8</td>\n    </tr>\n    <tr>\n      <th>4</th>\n      <td>2103213003001301</td>\n      <td>POLYGON((-58.6395263671875 -34.6151266834622, ...</td>\n      <td>81641</td>\n      <td>42419</td>\n      <td>9</td>\n      <td>57</td>\n      <td>11</td>\n    </tr>\n  </tbody>\n</table>\n</div>"
     },
     "execution_count": 7,
     "metadata": {},
     "output_type": "execute_result"
    }
   ],
   "source": [
    "df_fixed.head()"
   ],
   "metadata": {
    "collapsed": false,
    "pycharm": {
     "name": "#%%\n"
    }
   }
  },
  {
   "cell_type": "code",
   "execution_count": null,
   "outputs": [],
   "source": [
    "# Load raw data\n",
    "\n",
    "#df = pd.read_csv(data_file)\n"
   ],
   "metadata": {
    "collapsed": false,
    "pycharm": {
     "name": "#%%\n"
    }
   }
  },
  {
   "cell_type": "code",
   "execution_count": 17,
   "outputs": [
    {
     "data": {
      "text/plain": "            quadkey                                               tile  \\\n0  0231113112003202  POLYGON((-90.6591796875 38.4922941923613, -90....   \n1  1322111021111001  POLYGON((110.352172851562 21.2893743558604, 11...   \n2  3112203030003110  POLYGON((138.592529296875 -34.9219710361638, 1...   \n3  0320000130321312  POLYGON((-87.637939453125 40.225024210605, -87...   \n4  0320001332313103  POLYGON((-84.7430419921875 38.9209554204673, -...   \n\n   avg_d_kbps  avg_u_kbps  avg_lat_ms  tests  devices  \n0       66216       12490          13     28        4  \n1      102598       37356          13     15        4  \n2       24686       18736          18    162      106  \n3       17674       13989          78    364        4  \n4      441192      218955          22     14        1  ",
      "text/html": "<div>\n<style scoped>\n    .dataframe tbody tr th:only-of-type {\n        vertical-align: middle;\n    }\n\n    .dataframe tbody tr th {\n        vertical-align: top;\n    }\n\n    .dataframe thead th {\n        text-align: right;\n    }\n</style>\n<table border=\"1\" class=\"dataframe\">\n  <thead>\n    <tr style=\"text-align: right;\">\n      <th></th>\n      <th>quadkey</th>\n      <th>tile</th>\n      <th>avg_d_kbps</th>\n      <th>avg_u_kbps</th>\n      <th>avg_lat_ms</th>\n      <th>tests</th>\n      <th>devices</th>\n    </tr>\n  </thead>\n  <tbody>\n    <tr>\n      <th>0</th>\n      <td>0231113112003202</td>\n      <td>POLYGON((-90.6591796875 38.4922941923613, -90....</td>\n      <td>66216</td>\n      <td>12490</td>\n      <td>13</td>\n      <td>28</td>\n      <td>4</td>\n    </tr>\n    <tr>\n      <th>1</th>\n      <td>1322111021111001</td>\n      <td>POLYGON((110.352172851562 21.2893743558604, 11...</td>\n      <td>102598</td>\n      <td>37356</td>\n      <td>13</td>\n      <td>15</td>\n      <td>4</td>\n    </tr>\n    <tr>\n      <th>2</th>\n      <td>3112203030003110</td>\n      <td>POLYGON((138.592529296875 -34.9219710361638, 1...</td>\n      <td>24686</td>\n      <td>18736</td>\n      <td>18</td>\n      <td>162</td>\n      <td>106</td>\n    </tr>\n    <tr>\n      <th>3</th>\n      <td>0320000130321312</td>\n      <td>POLYGON((-87.637939453125 40.225024210605, -87...</td>\n      <td>17674</td>\n      <td>13989</td>\n      <td>78</td>\n      <td>364</td>\n      <td>4</td>\n    </tr>\n    <tr>\n      <th>4</th>\n      <td>0320001332313103</td>\n      <td>POLYGON((-84.7430419921875 38.9209554204673, -...</td>\n      <td>441192</td>\n      <td>218955</td>\n      <td>22</td>\n      <td>14</td>\n      <td>1</td>\n    </tr>\n  </tbody>\n</table>\n</div>"
     },
     "execution_count": 17,
     "metadata": {},
     "output_type": "execute_result"
    }
   ],
   "source": [
    "df.head()"
   ],
   "metadata": {
    "collapsed": false,
    "pycharm": {
     "name": "#%%\n"
    }
   }
  },
  {
   "cell_type": "code",
   "execution_count": 8,
   "outputs": [
    {
     "data": {
      "text/plain": "array([2021])"
     },
     "execution_count": 8,
     "metadata": {},
     "output_type": "execute_result"
    }
   ],
   "source": [
    "df.year.unique()"
   ],
   "metadata": {
    "collapsed": false,
    "pycharm": {
     "name": "#%%\n"
    }
   }
  },
  {
   "cell_type": "code",
   "execution_count": null,
   "outputs": [],
   "source": [],
   "metadata": {
    "collapsed": false,
    "pycharm": {
     "name": "#%%\n"
    }
   }
  }
 ],
 "metadata": {
  "kernelspec": {
   "display_name": "Python 3",
   "language": "python",
   "name": "python3"
  },
  "language_info": {
   "codemirror_mode": {
    "name": "ipython",
    "version": 2
   },
   "file_extension": ".py",
   "mimetype": "text/x-python",
   "name": "python",
   "nbconvert_exporter": "python",
   "pygments_lexer": "ipython2",
   "version": "2.7.6"
  }
 },
 "nbformat": 4,
 "nbformat_minor": 0
}