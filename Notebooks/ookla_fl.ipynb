{
 "cells": [
  {
   "cell_type": "code",
   "execution_count": 1,
   "metadata": {
    "collapsed": true
   },
   "outputs": [],
   "source": [
    "import os\n",
    "import glob\n",
    "import pandas as pd\n",
    "import pyarrow.parquet as pq\n",
    "import geopandas as gp\n",
    "\n",
    "from shapely.geometry import Point\n",
    "from adjustText import adjust_text\n",
    "\n",
    "import matplotlib\n",
    "import matplotlib.pyplot as plt"
   ]
  },
  {
   "cell_type": "code",
   "execution_count": 2,
   "outputs": [
    {
     "data": {
      "text/plain": "'/home/prao/GIT/DataKind-Broadband/Notebooks'"
     },
     "execution_count": 2,
     "metadata": {},
     "output_type": "execute_result"
    }
   ],
   "source": [
    "os.getcwd()"
   ],
   "metadata": {
    "collapsed": false,
    "pycharm": {
     "name": "#%%\n"
    }
   }
  },
  {
   "cell_type": "code",
   "execution_count": 3,
   "outputs": [],
   "source": [
    "data_dir = '../Data/shapefiles'"
   ],
   "metadata": {
    "collapsed": false,
    "pycharm": {
     "name": "#%%\n"
    }
   }
  },
  {
   "cell_type": "code",
   "execution_count": 4,
   "outputs": [],
   "source": [
    "df_list = []\n",
    "bb_type = 'fixed'\n",
    "suffix = 'zip'\n",
    "#suffix = 'parquet'\n",
    "for year in [2021]:\n",
    "    for file in glob.glob(data_dir + '/' + str(year) + '*_' + bb_type + '_*.' + suffix):\n",
    "        print(file)\n",
    "        #df = pq.read_table(source=file).to_pandas()\n",
    "        df = gp.read_file(file)\n",
    "        df['year'] = year\n",
    "        df['bb_type'] = bb_type\n",
    "        df_list.append(df)"
   ],
   "metadata": {
    "collapsed": false,
    "pycharm": {
     "name": "#%%\n"
    }
   }
  },
  {
   "cell_type": "code",
   "execution_count": 6,
   "outputs": [],
   "source": [
    "df_fixed = pd.concat(df_list)"
   ],
   "metadata": {
    "collapsed": false,
    "pycharm": {
     "name": "#%%\n"
    }
   }
  },
  {
   "cell_type": "code",
   "execution_count": 50,
   "outputs": [],
   "source": [],
   "metadata": {
    "collapsed": false,
    "pycharm": {
     "name": "#%%\n"
    }
   }
  },
  {
   "cell_type": "code",
   "execution_count": 8,
   "outputs": [
    {
     "name": "stdout",
     "output_type": "stream",
     "text": [
      "<class 'geopandas.geodataframe.GeoDataFrame'>\n",
      "Int64Index: 13336984 entries, 0 to 6694233\n",
      "Data columns (total 9 columns):\n",
      " #   Column      Dtype   \n",
      "---  ------      -----   \n",
      " 0   quadkey     object  \n",
      " 1   avg_d_kbps  int64   \n",
      " 2   avg_u_kbps  int64   \n",
      " 3   avg_lat_ms  int64   \n",
      " 4   tests       int64   \n",
      " 5   devices     int64   \n",
      " 6   geometry    geometry\n",
      " 7   year        int64   \n",
      " 8   bb_type     object  \n",
      "dtypes: geometry(1), int64(6), object(2)\n",
      "memory usage: 1017.5+ MB\n"
     ]
    }
   ],
   "source": [
    "df_fixed.info()"
   ],
   "metadata": {
    "collapsed": false,
    "pycharm": {
     "name": "#%%\n"
    }
   }
  },
  {
   "cell_type": "code",
   "execution_count": 7,
   "outputs": [
    {
     "data": {
      "text/plain": "            quadkey  avg_d_kbps  avg_u_kbps  avg_lat_ms  tests  devices  \\\n0  3112231211112221       30246       14149          10     49       16   \n1  1321222320312202      232361      225471           4   1029      260   \n2  0313113232023121       95299       15138          12     96       20   \n3  1202212030113301      204895       69600           7     40       15   \n4  1233013312311330       53680       51232           8    758      265   \n\n                                            geometry  year bb_type  \n0  POLYGON ((144.76135 -37.77940, 144.76685 -37.7...  2021   fixed  \n1  POLYGON ((114.16992 22.36532, 114.17542 22.365...  2021   fixed  \n2  POLYGON ((-2.03796 52.60972, -2.03247 52.60972...  2021   fixed  \n3  POLYGON ((6.66321 46.51352, 6.66870 46.51352, ...  2021   fixed  \n4  POLYGON ((78.38745 17.44499, 78.39294 17.44499...  2021   fixed  ",
      "text/html": "<div>\n<style scoped>\n    .dataframe tbody tr th:only-of-type {\n        vertical-align: middle;\n    }\n\n    .dataframe tbody tr th {\n        vertical-align: top;\n    }\n\n    .dataframe thead th {\n        text-align: right;\n    }\n</style>\n<table border=\"1\" class=\"dataframe\">\n  <thead>\n    <tr style=\"text-align: right;\">\n      <th></th>\n      <th>quadkey</th>\n      <th>avg_d_kbps</th>\n      <th>avg_u_kbps</th>\n      <th>avg_lat_ms</th>\n      <th>tests</th>\n      <th>devices</th>\n      <th>geometry</th>\n      <th>year</th>\n      <th>bb_type</th>\n    </tr>\n  </thead>\n  <tbody>\n    <tr>\n      <th>0</th>\n      <td>3112231211112221</td>\n      <td>30246</td>\n      <td>14149</td>\n      <td>10</td>\n      <td>49</td>\n      <td>16</td>\n      <td>POLYGON ((144.76135 -37.77940, 144.76685 -37.7...</td>\n      <td>2021</td>\n      <td>fixed</td>\n    </tr>\n    <tr>\n      <th>1</th>\n      <td>1321222320312202</td>\n      <td>232361</td>\n      <td>225471</td>\n      <td>4</td>\n      <td>1029</td>\n      <td>260</td>\n      <td>POLYGON ((114.16992 22.36532, 114.17542 22.365...</td>\n      <td>2021</td>\n      <td>fixed</td>\n    </tr>\n    <tr>\n      <th>2</th>\n      <td>0313113232023121</td>\n      <td>95299</td>\n      <td>15138</td>\n      <td>12</td>\n      <td>96</td>\n      <td>20</td>\n      <td>POLYGON ((-2.03796 52.60972, -2.03247 52.60972...</td>\n      <td>2021</td>\n      <td>fixed</td>\n    </tr>\n    <tr>\n      <th>3</th>\n      <td>1202212030113301</td>\n      <td>204895</td>\n      <td>69600</td>\n      <td>7</td>\n      <td>40</td>\n      <td>15</td>\n      <td>POLYGON ((6.66321 46.51352, 6.66870 46.51352, ...</td>\n      <td>2021</td>\n      <td>fixed</td>\n    </tr>\n    <tr>\n      <th>4</th>\n      <td>1233013312311330</td>\n      <td>53680</td>\n      <td>51232</td>\n      <td>8</td>\n      <td>758</td>\n      <td>265</td>\n      <td>POLYGON ((78.38745 17.44499, 78.39294 17.44499...</td>\n      <td>2021</td>\n      <td>fixed</td>\n    </tr>\n  </tbody>\n</table>\n</div>"
     },
     "execution_count": 7,
     "metadata": {},
     "output_type": "execute_result"
    }
   ],
   "source": [
    "df_fixed.head()"
   ],
   "metadata": {
    "collapsed": false,
    "pycharm": {
     "name": "#%%\n"
    }
   }
  },
  {
   "cell_type": "code",
   "execution_count": 19,
   "outputs": [],
   "source": [
    "# Load raw data\n",
    "\n",
    "#df = pd.read_csv(data_file)\n"
   ],
   "metadata": {
    "collapsed": false,
    "pycharm": {
     "name": "#%%\n"
    }
   }
  },
  {
   "cell_type": "code",
   "execution_count": 53,
   "outputs": [
    {
     "data": {
      "text/plain": "                  quadkey  avg_d_kbps  avg_u_kbps  avg_lat_ms  tests  devices  \\\n1495299  0231113112003202      221349       14691          11     17        6   \n394990   0231113112003202      216548       15503          13     17        9   \n\n                                                  geometry  year bb_type  \n1495299  POLYGON ((-90.65918 38.49229, -90.65369 38.492...  2021   fixed  \n394990   POLYGON ((-90.65918 38.49229, -90.65369 38.492...  2021   fixed  ",
      "text/html": "<div>\n<style scoped>\n    .dataframe tbody tr th:only-of-type {\n        vertical-align: middle;\n    }\n\n    .dataframe tbody tr th {\n        vertical-align: top;\n    }\n\n    .dataframe thead th {\n        text-align: right;\n    }\n</style>\n<table border=\"1\" class=\"dataframe\">\n  <thead>\n    <tr style=\"text-align: right;\">\n      <th></th>\n      <th>quadkey</th>\n      <th>avg_d_kbps</th>\n      <th>avg_u_kbps</th>\n      <th>avg_lat_ms</th>\n      <th>tests</th>\n      <th>devices</th>\n      <th>geometry</th>\n      <th>year</th>\n      <th>bb_type</th>\n    </tr>\n  </thead>\n  <tbody>\n    <tr>\n      <th>1495299</th>\n      <td>0231113112003202</td>\n      <td>221349</td>\n      <td>14691</td>\n      <td>11</td>\n      <td>17</td>\n      <td>6</td>\n      <td>POLYGON ((-90.65918 38.49229, -90.65369 38.492...</td>\n      <td>2021</td>\n      <td>fixed</td>\n    </tr>\n    <tr>\n      <th>394990</th>\n      <td>0231113112003202</td>\n      <td>216548</td>\n      <td>15503</td>\n      <td>13</td>\n      <td>17</td>\n      <td>9</td>\n      <td>POLYGON ((-90.65918 38.49229, -90.65369 38.492...</td>\n      <td>2021</td>\n      <td>fixed</td>\n    </tr>\n  </tbody>\n</table>\n</div>"
     },
     "execution_count": 53,
     "metadata": {},
     "output_type": "execute_result"
    }
   ],
   "source": [
    "df_fixed[df_fixed['quadkey'] == '0231113112003202'].head()"
   ],
   "metadata": {
    "collapsed": false,
    "pycharm": {
     "name": "#%%\n"
    }
   }
  },
  {
   "cell_type": "code",
   "execution_count": 54,
   "outputs": [
    {
     "data": {
      "text/plain": "array([2021])"
     },
     "execution_count": 54,
     "metadata": {},
     "output_type": "execute_result"
    }
   ],
   "source": [
    "df_fixed.year.unique()"
   ],
   "metadata": {
    "collapsed": false,
    "pycharm": {
     "name": "#%%\n"
    }
   }
  },
  {
   "cell_type": "code",
   "execution_count": 55,
   "outputs": [
    {
     "ename": "KeyError",
     "evalue": "'tile'",
     "output_type": "error",
     "traceback": [
      "\u001B[0;31m---------------------------------------------------------------------------\u001B[0m",
      "\u001B[0;31mKeyError\u001B[0m                                  Traceback (most recent call last)",
      "\u001B[0;32m<ipython-input-55-007b1cef5a6e>\u001B[0m in \u001B[0;36m<module>\u001B[0;34m\u001B[0m\n\u001B[0;32m----> 1\u001B[0;31m df_fixed_yearly = df_fixed.groupby(['year','bb_type','quadkey','tile']).agg(\n\u001B[0m\u001B[1;32m      2\u001B[0m     \u001B[0mavg_d_kbps\u001B[0m \u001B[0;34m=\u001B[0m \u001B[0mpd\u001B[0m\u001B[0;34m.\u001B[0m\u001B[0mNamedAgg\u001B[0m\u001B[0;34m(\u001B[0m\u001B[0mcolumn\u001B[0m\u001B[0;34m=\u001B[0m\u001B[0;34m'avg_d_kbps'\u001B[0m\u001B[0;34m,\u001B[0m \u001B[0maggfunc\u001B[0m\u001B[0;34m=\u001B[0m\u001B[0;34m'mean'\u001B[0m\u001B[0;34m)\u001B[0m\u001B[0;34m,\u001B[0m\u001B[0;34m\u001B[0m\u001B[0;34m\u001B[0m\u001B[0m\n\u001B[1;32m      3\u001B[0m     \u001B[0mavg_u_kbps\u001B[0m \u001B[0;34m=\u001B[0m \u001B[0mpd\u001B[0m\u001B[0;34m.\u001B[0m\u001B[0mNamedAgg\u001B[0m\u001B[0;34m(\u001B[0m\u001B[0mcolumn\u001B[0m\u001B[0;34m=\u001B[0m\u001B[0;34m'avg_u_kbps'\u001B[0m\u001B[0;34m,\u001B[0m \u001B[0maggfunc\u001B[0m\u001B[0;34m=\u001B[0m\u001B[0;34m'mean'\u001B[0m\u001B[0;34m)\u001B[0m\u001B[0;34m,\u001B[0m\u001B[0;34m\u001B[0m\u001B[0;34m\u001B[0m\u001B[0m\n\u001B[1;32m      4\u001B[0m     \u001B[0mavg_lat_ms\u001B[0m \u001B[0;34m=\u001B[0m \u001B[0mpd\u001B[0m\u001B[0;34m.\u001B[0m\u001B[0mNamedAgg\u001B[0m\u001B[0;34m(\u001B[0m\u001B[0mcolumn\u001B[0m\u001B[0;34m=\u001B[0m\u001B[0;34m'avg_lat_ms'\u001B[0m\u001B[0;34m,\u001B[0m \u001B[0maggfunc\u001B[0m\u001B[0;34m=\u001B[0m\u001B[0;34m'mean'\u001B[0m\u001B[0;34m)\u001B[0m\u001B[0;34m,\u001B[0m\u001B[0;34m\u001B[0m\u001B[0;34m\u001B[0m\u001B[0m\n\u001B[1;32m      5\u001B[0m     \u001B[0mtests\u001B[0m \u001B[0;34m=\u001B[0m \u001B[0mpd\u001B[0m\u001B[0;34m.\u001B[0m\u001B[0mNamedAgg\u001B[0m\u001B[0;34m(\u001B[0m\u001B[0mcolumn\u001B[0m\u001B[0;34m=\u001B[0m\u001B[0;34m'tests'\u001B[0m\u001B[0;34m,\u001B[0m \u001B[0maggfunc\u001B[0m\u001B[0;34m=\u001B[0m\u001B[0;34m'mean'\u001B[0m\u001B[0;34m)\u001B[0m\u001B[0;34m,\u001B[0m\u001B[0;34m\u001B[0m\u001B[0;34m\u001B[0m\u001B[0m\n",
      "\u001B[0;32m~/.local/lib/python3.7/site-packages/pandas/core/frame.py\u001B[0m in \u001B[0;36mgroupby\u001B[0;34m(self, by, axis, level, as_index, sort, group_keys, squeeze, observed)\u001B[0m\n\u001B[1;32m   5808\u001B[0m             \u001B[0mgroup_keys\u001B[0m\u001B[0;34m=\u001B[0m\u001B[0mgroup_keys\u001B[0m\u001B[0;34m,\u001B[0m\u001B[0;34m\u001B[0m\u001B[0;34m\u001B[0m\u001B[0m\n\u001B[1;32m   5809\u001B[0m             \u001B[0msqueeze\u001B[0m\u001B[0;34m=\u001B[0m\u001B[0msqueeze\u001B[0m\u001B[0;34m,\u001B[0m\u001B[0;34m\u001B[0m\u001B[0;34m\u001B[0m\u001B[0m\n\u001B[0;32m-> 5810\u001B[0;31m             \u001B[0mobserved\u001B[0m\u001B[0;34m=\u001B[0m\u001B[0mobserved\u001B[0m\u001B[0;34m,\u001B[0m\u001B[0;34m\u001B[0m\u001B[0;34m\u001B[0m\u001B[0m\n\u001B[0m\u001B[1;32m   5811\u001B[0m         )\n\u001B[1;32m   5812\u001B[0m \u001B[0;34m\u001B[0m\u001B[0m\n",
      "\u001B[0;32m~/.local/lib/python3.7/site-packages/pandas/core/groupby/groupby.py\u001B[0m in \u001B[0;36m__init__\u001B[0;34m(self, obj, keys, axis, level, grouper, exclusions, selection, as_index, sort, group_keys, squeeze, observed, mutated)\u001B[0m\n\u001B[1;32m    407\u001B[0m                 \u001B[0msort\u001B[0m\u001B[0;34m=\u001B[0m\u001B[0msort\u001B[0m\u001B[0;34m,\u001B[0m\u001B[0;34m\u001B[0m\u001B[0;34m\u001B[0m\u001B[0m\n\u001B[1;32m    408\u001B[0m                 \u001B[0mobserved\u001B[0m\u001B[0;34m=\u001B[0m\u001B[0mobserved\u001B[0m\u001B[0;34m,\u001B[0m\u001B[0;34m\u001B[0m\u001B[0;34m\u001B[0m\u001B[0m\n\u001B[0;32m--> 409\u001B[0;31m                 \u001B[0mmutated\u001B[0m\u001B[0;34m=\u001B[0m\u001B[0mself\u001B[0m\u001B[0;34m.\u001B[0m\u001B[0mmutated\u001B[0m\u001B[0;34m,\u001B[0m\u001B[0;34m\u001B[0m\u001B[0;34m\u001B[0m\u001B[0m\n\u001B[0m\u001B[1;32m    410\u001B[0m             )\n\u001B[1;32m    411\u001B[0m \u001B[0;34m\u001B[0m\u001B[0m\n",
      "\u001B[0;32m~/.local/lib/python3.7/site-packages/pandas/core/groupby/grouper.py\u001B[0m in \u001B[0;36mget_grouper\u001B[0;34m(obj, key, axis, level, sort, observed, mutated, validate)\u001B[0m\n\u001B[1;32m    596\u001B[0m                 \u001B[0min_axis\u001B[0m\u001B[0;34m,\u001B[0m \u001B[0mname\u001B[0m\u001B[0;34m,\u001B[0m \u001B[0mlevel\u001B[0m\u001B[0;34m,\u001B[0m \u001B[0mgpr\u001B[0m \u001B[0;34m=\u001B[0m \u001B[0;32mFalse\u001B[0m\u001B[0;34m,\u001B[0m \u001B[0;32mNone\u001B[0m\u001B[0;34m,\u001B[0m \u001B[0mgpr\u001B[0m\u001B[0;34m,\u001B[0m \u001B[0;32mNone\u001B[0m\u001B[0;34m\u001B[0m\u001B[0;34m\u001B[0m\u001B[0m\n\u001B[1;32m    597\u001B[0m             \u001B[0;32melse\u001B[0m\u001B[0;34m:\u001B[0m\u001B[0;34m\u001B[0m\u001B[0;34m\u001B[0m\u001B[0m\n\u001B[0;32m--> 598\u001B[0;31m                 \u001B[0;32mraise\u001B[0m \u001B[0mKeyError\u001B[0m\u001B[0;34m(\u001B[0m\u001B[0mgpr\u001B[0m\u001B[0;34m)\u001B[0m\u001B[0;34m\u001B[0m\u001B[0;34m\u001B[0m\u001B[0m\n\u001B[0m\u001B[1;32m    599\u001B[0m         \u001B[0;32melif\u001B[0m \u001B[0misinstance\u001B[0m\u001B[0;34m(\u001B[0m\u001B[0mgpr\u001B[0m\u001B[0;34m,\u001B[0m \u001B[0mGrouper\u001B[0m\u001B[0;34m)\u001B[0m \u001B[0;32mand\u001B[0m \u001B[0mgpr\u001B[0m\u001B[0;34m.\u001B[0m\u001B[0mkey\u001B[0m \u001B[0;32mis\u001B[0m \u001B[0;32mnot\u001B[0m \u001B[0;32mNone\u001B[0m\u001B[0;34m:\u001B[0m\u001B[0;34m\u001B[0m\u001B[0;34m\u001B[0m\u001B[0m\n\u001B[1;32m    600\u001B[0m             \u001B[0;31m# Add key to exclusions\u001B[0m\u001B[0;34m\u001B[0m\u001B[0;34m\u001B[0m\u001B[0;34m\u001B[0m\u001B[0m\n",
      "\u001B[0;31mKeyError\u001B[0m: 'tile'"
     ]
    }
   ],
   "source": [
    "df_fixed_yearly = df_fixed.groupby(['year','bb_type','quadkey','tile']).agg(\n",
    "    avg_d_kbps = pd.NamedAgg(column='avg_d_kbps', aggfunc='mean'),\n",
    "    avg_u_kbps = pd.NamedAgg(column='avg_u_kbps', aggfunc='mean'),\n",
    "    avg_lat_ms = pd.NamedAgg(column='avg_lat_ms', aggfunc='mean'),\n",
    "    tests = pd.NamedAgg(column='tests', aggfunc='mean'),\n",
    "    devices = pd.NamedAgg(column='devices', aggfunc='mean')\n",
    ").reset_index()"
   ],
   "metadata": {
    "collapsed": false,
    "pycharm": {
     "name": "#%%\n"
    }
   }
  },
  {
   "cell_type": "code",
   "execution_count": 39,
   "outputs": [
    {
     "name": "stdout",
     "output_type": "stream",
     "text": [
      "<class 'pandas.core.frame.DataFrame'>\n",
      "RangeIndex: 29804382 entries, 0 to 29804381\n",
      "Data columns (total 10 columns):\n",
      " #   Column      Dtype   \n",
      "---  ------      -----   \n",
      " 0   year        int64   \n",
      " 1   bb_type     object  \n",
      " 2   quadkey     object  \n",
      " 3   tile        object  \n",
      " 4   avg_d_kbps  float64 \n",
      " 5   avg_u_kbps  float64 \n",
      " 6   avg_lat_ms  float64 \n",
      " 7   tests       float64 \n",
      " 8   devices     float64 \n",
      " 9   geometry    geometry\n",
      "dtypes: float64(5), geometry(1), int64(1), object(3)\n",
      "memory usage: 2.2+ GB\n"
     ]
    }
   ],
   "source": [
    "df_fixed_yearly.info()"
   ],
   "metadata": {
    "collapsed": false,
    "pycharm": {
     "name": "#%%\n"
    }
   }
  },
  {
   "cell_type": "code",
   "execution_count": 24,
   "outputs": [
    {
     "data": {
      "text/plain": "   year bb_type           quadkey  \\\n0  2019   fixed  0022133222312322   \n1  2019   fixed  0022133222330013   \n2  2019   fixed  0022133222330023   \n3  2019   fixed  0022133222330032   \n4  2019   fixed  0022133222330100   \n\n                                                tile  avg_d_kbps  avg_u_kbps  \\\n0  POLYGON((-160.02685546875 70.6435894914449, -1...      8200.5      3705.0   \n1  POLYGON((-160.032348632812 70.6399478155463, -...      9255.5      3189.5   \n2  POLYGON((-160.043334960938 70.6363054807905, -...      7946.0      3492.5   \n3  POLYGON((-160.037841796875 70.6363054807905, -...      7384.0      3868.0   \n4  POLYGON((-160.02685546875 70.6417687358462, -1...      8895.0      3429.0   \n\n   avg_lat_ms  tests  devices  \n0        53.0    1.0     1.00  \n1        43.5    1.0     1.00  \n2        44.5    1.5     1.25  \n3        65.0    1.0     1.00  \n4        43.0    2.0     2.00  ",
      "text/html": "<div>\n<style scoped>\n    .dataframe tbody tr th:only-of-type {\n        vertical-align: middle;\n    }\n\n    .dataframe tbody tr th {\n        vertical-align: top;\n    }\n\n    .dataframe thead th {\n        text-align: right;\n    }\n</style>\n<table border=\"1\" class=\"dataframe\">\n  <thead>\n    <tr style=\"text-align: right;\">\n      <th></th>\n      <th>year</th>\n      <th>bb_type</th>\n      <th>quadkey</th>\n      <th>tile</th>\n      <th>avg_d_kbps</th>\n      <th>avg_u_kbps</th>\n      <th>avg_lat_ms</th>\n      <th>tests</th>\n      <th>devices</th>\n    </tr>\n  </thead>\n  <tbody>\n    <tr>\n      <th>0</th>\n      <td>2019</td>\n      <td>fixed</td>\n      <td>0022133222312322</td>\n      <td>POLYGON((-160.02685546875 70.6435894914449, -1...</td>\n      <td>8200.5</td>\n      <td>3705.0</td>\n      <td>53.0</td>\n      <td>1.0</td>\n      <td>1.00</td>\n    </tr>\n    <tr>\n      <th>1</th>\n      <td>2019</td>\n      <td>fixed</td>\n      <td>0022133222330013</td>\n      <td>POLYGON((-160.032348632812 70.6399478155463, -...</td>\n      <td>9255.5</td>\n      <td>3189.5</td>\n      <td>43.5</td>\n      <td>1.0</td>\n      <td>1.00</td>\n    </tr>\n    <tr>\n      <th>2</th>\n      <td>2019</td>\n      <td>fixed</td>\n      <td>0022133222330023</td>\n      <td>POLYGON((-160.043334960938 70.6363054807905, -...</td>\n      <td>7946.0</td>\n      <td>3492.5</td>\n      <td>44.5</td>\n      <td>1.5</td>\n      <td>1.25</td>\n    </tr>\n    <tr>\n      <th>3</th>\n      <td>2019</td>\n      <td>fixed</td>\n      <td>0022133222330032</td>\n      <td>POLYGON((-160.037841796875 70.6363054807905, -...</td>\n      <td>7384.0</td>\n      <td>3868.0</td>\n      <td>65.0</td>\n      <td>1.0</td>\n      <td>1.00</td>\n    </tr>\n    <tr>\n      <th>4</th>\n      <td>2019</td>\n      <td>fixed</td>\n      <td>0022133222330100</td>\n      <td>POLYGON((-160.02685546875 70.6417687358462, -1...</td>\n      <td>8895.0</td>\n      <td>3429.0</td>\n      <td>43.0</td>\n      <td>2.0</td>\n      <td>2.00</td>\n    </tr>\n  </tbody>\n</table>\n</div>"
     },
     "execution_count": 24,
     "metadata": {},
     "output_type": "execute_result"
    }
   ],
   "source": [
    "df_fixed_yearly.head()"
   ],
   "metadata": {
    "collapsed": false,
    "pycharm": {
     "name": "#%%\n"
    }
   }
  },
  {
   "cell_type": "code",
   "execution_count": 38,
   "outputs": [],
   "source": [
    "df_fixed_yearly['geometry'] = gp.GeoSeries.from_wkt(df['tile'])"
   ],
   "metadata": {
    "collapsed": false,
    "pycharm": {
     "name": "#%%\n"
    }
   }
  },
  {
   "cell_type": "code",
   "execution_count": 25,
   "outputs": [],
   "source": [
    "# Florida State Code = 12"
   ],
   "metadata": {
    "collapsed": false,
    "pycharm": {
     "name": "#%%\n"
    }
   }
  },
  {
   "cell_type": "code",
   "execution_count": 9,
   "outputs": [],
   "source": [
    "# zipfile of U.S. county boundaries\n",
    "county_url = \"https://www2.census.gov/geo/tiger/TIGER2019/COUNTY/tl_2019_us_county.zip\"\n",
    "counties = gp.read_file(county_url)"
   ],
   "metadata": {
    "collapsed": false,
    "pycharm": {
     "name": "#%%\n"
    }
   }
  },
  {
   "cell_type": "code",
   "execution_count": 10,
   "outputs": [],
   "source": [
    "# filter out the FL fips code\n",
    "fl_counties = counties.loc[counties['STATEFP'] == '12'].to_crs(4326)"
   ],
   "metadata": {
    "collapsed": false,
    "pycharm": {
     "name": "#%%\n"
    }
   }
  },
  {
   "cell_type": "code",
   "execution_count": 57,
   "outputs": [
    {
     "data": {
      "text/plain": "    STATEFP COUNTYFP  COUNTYNS  GEOID      NAME         NAMELSAD LSAD CLASSFP  \\\n71       12      053  00295751  12053  Hernando  Hernando County   06      H1   \n72       12      129  00306912  12129   Wakulla   Wakulla County   06      H1   \n73       12      131  00295727  12131    Walton    Walton County   06      H1   \n78       12      127  00306921  12127   Volusia   Volusia County   06      H1   \n195      12      051  00307626  12051    Hendry    Hendry County   06      H1   \n\n     MTFCC CSAFP CBSAFP METDIVFP FUNCSTAT       ALAND     AWATER     INTPTLAT  \\\n71   G4020  None  45300     None        A  1224962206  300591492  +28.5730426   \n72   G4020  None  45220     None        A  1570615733  334902363  +30.1394320   \n73   G4020  None  18880     None        A  2687740188  522795160  +30.6312106   \n78   G4020   422  19660     None        A  2852204344  857791723  +29.0577690   \n195  G4020   163  17500     None        A  2994619266   87037213  +26.5399670   \n\n         INTPTLON                                           geometry  \n71   -082.4662272  POLYGON ((-82.25329 28.47849, -82.25329 28.478...  \n72   -084.3748463  POLYGON ((-84.50434 30.30186, -84.50432 30.301...  \n73   -086.1766139  POLYGON ((-86.39160 30.72189, -86.39160 30.723...  \n78   -081.1617920  POLYGON ((-81.50280 29.10627, -81.50284 29.106...  \n195  -081.1521142  POLYGON ((-81.27172 26.42265, -81.27172 26.436...  ",
      "text/html": "<div>\n<style scoped>\n    .dataframe tbody tr th:only-of-type {\n        vertical-align: middle;\n    }\n\n    .dataframe tbody tr th {\n        vertical-align: top;\n    }\n\n    .dataframe thead th {\n        text-align: right;\n    }\n</style>\n<table border=\"1\" class=\"dataframe\">\n  <thead>\n    <tr style=\"text-align: right;\">\n      <th></th>\n      <th>STATEFP</th>\n      <th>COUNTYFP</th>\n      <th>COUNTYNS</th>\n      <th>GEOID</th>\n      <th>NAME</th>\n      <th>NAMELSAD</th>\n      <th>LSAD</th>\n      <th>CLASSFP</th>\n      <th>MTFCC</th>\n      <th>CSAFP</th>\n      <th>CBSAFP</th>\n      <th>METDIVFP</th>\n      <th>FUNCSTAT</th>\n      <th>ALAND</th>\n      <th>AWATER</th>\n      <th>INTPTLAT</th>\n      <th>INTPTLON</th>\n      <th>geometry</th>\n    </tr>\n  </thead>\n  <tbody>\n    <tr>\n      <th>71</th>\n      <td>12</td>\n      <td>053</td>\n      <td>00295751</td>\n      <td>12053</td>\n      <td>Hernando</td>\n      <td>Hernando County</td>\n      <td>06</td>\n      <td>H1</td>\n      <td>G4020</td>\n      <td>None</td>\n      <td>45300</td>\n      <td>None</td>\n      <td>A</td>\n      <td>1224962206</td>\n      <td>300591492</td>\n      <td>+28.5730426</td>\n      <td>-082.4662272</td>\n      <td>POLYGON ((-82.25329 28.47849, -82.25329 28.478...</td>\n    </tr>\n    <tr>\n      <th>72</th>\n      <td>12</td>\n      <td>129</td>\n      <td>00306912</td>\n      <td>12129</td>\n      <td>Wakulla</td>\n      <td>Wakulla County</td>\n      <td>06</td>\n      <td>H1</td>\n      <td>G4020</td>\n      <td>None</td>\n      <td>45220</td>\n      <td>None</td>\n      <td>A</td>\n      <td>1570615733</td>\n      <td>334902363</td>\n      <td>+30.1394320</td>\n      <td>-084.3748463</td>\n      <td>POLYGON ((-84.50434 30.30186, -84.50432 30.301...</td>\n    </tr>\n    <tr>\n      <th>73</th>\n      <td>12</td>\n      <td>131</td>\n      <td>00295727</td>\n      <td>12131</td>\n      <td>Walton</td>\n      <td>Walton County</td>\n      <td>06</td>\n      <td>H1</td>\n      <td>G4020</td>\n      <td>None</td>\n      <td>18880</td>\n      <td>None</td>\n      <td>A</td>\n      <td>2687740188</td>\n      <td>522795160</td>\n      <td>+30.6312106</td>\n      <td>-086.1766139</td>\n      <td>POLYGON ((-86.39160 30.72189, -86.39160 30.723...</td>\n    </tr>\n    <tr>\n      <th>78</th>\n      <td>12</td>\n      <td>127</td>\n      <td>00306921</td>\n      <td>12127</td>\n      <td>Volusia</td>\n      <td>Volusia County</td>\n      <td>06</td>\n      <td>H1</td>\n      <td>G4020</td>\n      <td>422</td>\n      <td>19660</td>\n      <td>None</td>\n      <td>A</td>\n      <td>2852204344</td>\n      <td>857791723</td>\n      <td>+29.0577690</td>\n      <td>-081.1617920</td>\n      <td>POLYGON ((-81.50280 29.10627, -81.50284 29.106...</td>\n    </tr>\n    <tr>\n      <th>195</th>\n      <td>12</td>\n      <td>051</td>\n      <td>00307626</td>\n      <td>12051</td>\n      <td>Hendry</td>\n      <td>Hendry County</td>\n      <td>06</td>\n      <td>H1</td>\n      <td>G4020</td>\n      <td>163</td>\n      <td>17500</td>\n      <td>None</td>\n      <td>A</td>\n      <td>2994619266</td>\n      <td>87037213</td>\n      <td>+26.5399670</td>\n      <td>-081.1521142</td>\n      <td>POLYGON ((-81.27172 26.42265, -81.27172 26.436...</td>\n    </tr>\n  </tbody>\n</table>\n</div>"
     },
     "execution_count": 57,
     "metadata": {},
     "output_type": "execute_result"
    }
   ],
   "source": [
    "fl_counties.head()"
   ],
   "metadata": {
    "collapsed": false,
    "pycharm": {
     "name": "#%%\n"
    }
   }
  },
  {
   "cell_type": "code",
   "execution_count": 43,
   "outputs": [],
   "source": [
    "df_fl = pd.DataFrame(fl_counties)"
   ],
   "metadata": {
    "collapsed": false,
    "pycharm": {
     "name": "#%%\n"
    }
   }
  },
  {
   "cell_type": "code",
   "execution_count": 11,
   "outputs": [],
   "source": [
    "tiles_in_fl = gp.sjoin(df_fixed, fl_counties, how='inner', op='intersects')"
   ],
   "metadata": {
    "collapsed": false,
    "pycharm": {
     "name": "#%%\n"
    }
   }
  },
  {
   "cell_type": "code",
   "execution_count": 14,
   "outputs": [],
   "source": [
    "df_fl = pd.DataFrame(tiles_in_fl)"
   ],
   "metadata": {
    "collapsed": false,
    "pycharm": {
     "name": "#%%\n"
    }
   }
  },
  {
   "cell_type": "code",
   "execution_count": 12,
   "outputs": [
    {
     "data": {
      "text/plain": "                 quadkey  avg_d_kbps  avg_u_kbps  avg_lat_ms  tests  devices  \\\n6       0320201332021332       90726       28194          35      3        2   \n57496   0320201332301131       64730        7275          43      8        8   \n100619  0320201332032000      183112       25706          30      7        5   \n129401  0320201332213220       70138       14725          28      8        3   \n130333  0320201332121101       17722        4729          28      7        1   \n\n                                                 geometry  year bb_type  \\\n6       POLYGON ((-85.00122 29.73099, -84.99573 29.730...  2021   fixed   \n57496   POLYGON ((-84.81995 29.67851, -84.81445 29.678...  2021   fixed   \n100619  POLYGON ((-84.99023 29.72622, -84.98474 29.726...  2021   fixed   \n129401  POLYGON ((-84.94629 29.62122, -84.94080 29.621...  2021   fixed   \n130333  POLYGON ((-84.83093 29.76438, -84.82544 29.764...  2021   fixed   \n\n        index_right  ... CLASSFP  MTFCC CSAFP CBSAFP METDIVFP FUNCSTAT  \\\n6              1000  ...      H1  G4020  None   None     None        A   \n57496          1000  ...      H1  G4020  None   None     None        A   \n100619         1000  ...      H1  G4020  None   None     None        A   \n129401         1000  ...      H1  G4020  None   None     None        A   \n130333         1000  ...      H1  G4020  None   None     None        A   \n\n             ALAND      AWATER     INTPTLAT      INTPTLON  \n6       1411908392  1275539662  +29.8101756  -084.7991742  \n57496   1411908392  1275539662  +29.8101756  -084.7991742  \n100619  1411908392  1275539662  +29.8101756  -084.7991742  \n129401  1411908392  1275539662  +29.8101756  -084.7991742  \n130333  1411908392  1275539662  +29.8101756  -084.7991742  \n\n[5 rows x 27 columns]",
      "text/html": "<div>\n<style scoped>\n    .dataframe tbody tr th:only-of-type {\n        vertical-align: middle;\n    }\n\n    .dataframe tbody tr th {\n        vertical-align: top;\n    }\n\n    .dataframe thead th {\n        text-align: right;\n    }\n</style>\n<table border=\"1\" class=\"dataframe\">\n  <thead>\n    <tr style=\"text-align: right;\">\n      <th></th>\n      <th>quadkey</th>\n      <th>avg_d_kbps</th>\n      <th>avg_u_kbps</th>\n      <th>avg_lat_ms</th>\n      <th>tests</th>\n      <th>devices</th>\n      <th>geometry</th>\n      <th>year</th>\n      <th>bb_type</th>\n      <th>index_right</th>\n      <th>...</th>\n      <th>CLASSFP</th>\n      <th>MTFCC</th>\n      <th>CSAFP</th>\n      <th>CBSAFP</th>\n      <th>METDIVFP</th>\n      <th>FUNCSTAT</th>\n      <th>ALAND</th>\n      <th>AWATER</th>\n      <th>INTPTLAT</th>\n      <th>INTPTLON</th>\n    </tr>\n  </thead>\n  <tbody>\n    <tr>\n      <th>6</th>\n      <td>0320201332021332</td>\n      <td>90726</td>\n      <td>28194</td>\n      <td>35</td>\n      <td>3</td>\n      <td>2</td>\n      <td>POLYGON ((-85.00122 29.73099, -84.99573 29.730...</td>\n      <td>2021</td>\n      <td>fixed</td>\n      <td>1000</td>\n      <td>...</td>\n      <td>H1</td>\n      <td>G4020</td>\n      <td>None</td>\n      <td>None</td>\n      <td>None</td>\n      <td>A</td>\n      <td>1411908392</td>\n      <td>1275539662</td>\n      <td>+29.8101756</td>\n      <td>-084.7991742</td>\n    </tr>\n    <tr>\n      <th>57496</th>\n      <td>0320201332301131</td>\n      <td>64730</td>\n      <td>7275</td>\n      <td>43</td>\n      <td>8</td>\n      <td>8</td>\n      <td>POLYGON ((-84.81995 29.67851, -84.81445 29.678...</td>\n      <td>2021</td>\n      <td>fixed</td>\n      <td>1000</td>\n      <td>...</td>\n      <td>H1</td>\n      <td>G4020</td>\n      <td>None</td>\n      <td>None</td>\n      <td>None</td>\n      <td>A</td>\n      <td>1411908392</td>\n      <td>1275539662</td>\n      <td>+29.8101756</td>\n      <td>-084.7991742</td>\n    </tr>\n    <tr>\n      <th>100619</th>\n      <td>0320201332032000</td>\n      <td>183112</td>\n      <td>25706</td>\n      <td>30</td>\n      <td>7</td>\n      <td>5</td>\n      <td>POLYGON ((-84.99023 29.72622, -84.98474 29.726...</td>\n      <td>2021</td>\n      <td>fixed</td>\n      <td>1000</td>\n      <td>...</td>\n      <td>H1</td>\n      <td>G4020</td>\n      <td>None</td>\n      <td>None</td>\n      <td>None</td>\n      <td>A</td>\n      <td>1411908392</td>\n      <td>1275539662</td>\n      <td>+29.8101756</td>\n      <td>-084.7991742</td>\n    </tr>\n    <tr>\n      <th>129401</th>\n      <td>0320201332213220</td>\n      <td>70138</td>\n      <td>14725</td>\n      <td>28</td>\n      <td>8</td>\n      <td>3</td>\n      <td>POLYGON ((-84.94629 29.62122, -84.94080 29.621...</td>\n      <td>2021</td>\n      <td>fixed</td>\n      <td>1000</td>\n      <td>...</td>\n      <td>H1</td>\n      <td>G4020</td>\n      <td>None</td>\n      <td>None</td>\n      <td>None</td>\n      <td>A</td>\n      <td>1411908392</td>\n      <td>1275539662</td>\n      <td>+29.8101756</td>\n      <td>-084.7991742</td>\n    </tr>\n    <tr>\n      <th>130333</th>\n      <td>0320201332121101</td>\n      <td>17722</td>\n      <td>4729</td>\n      <td>28</td>\n      <td>7</td>\n      <td>1</td>\n      <td>POLYGON ((-84.83093 29.76438, -84.82544 29.764...</td>\n      <td>2021</td>\n      <td>fixed</td>\n      <td>1000</td>\n      <td>...</td>\n      <td>H1</td>\n      <td>G4020</td>\n      <td>None</td>\n      <td>None</td>\n      <td>None</td>\n      <td>A</td>\n      <td>1411908392</td>\n      <td>1275539662</td>\n      <td>+29.8101756</td>\n      <td>-084.7991742</td>\n    </tr>\n  </tbody>\n</table>\n<p>5 rows × 27 columns</p>\n</div>"
     },
     "execution_count": 12,
     "metadata": {},
     "output_type": "execute_result"
    }
   ],
   "source": [
    "tiles_in_fl.head()"
   ],
   "metadata": {
    "collapsed": false,
    "pycharm": {
     "name": "#%%\n"
    }
   }
  },
  {
   "cell_type": "code",
   "execution_count": 13,
   "outputs": [
    {
     "name": "stdout",
     "output_type": "stream",
     "text": [
      "<class 'geopandas.geodataframe.GeoDataFrame'>\n",
      "Int64Index: 165093 entries, 6 to 2549416\n",
      "Data columns (total 27 columns):\n",
      " #   Column       Non-Null Count   Dtype   \n",
      "---  ------       --------------   -----   \n",
      " 0   quadkey      165093 non-null  object  \n",
      " 1   avg_d_kbps   165093 non-null  int64   \n",
      " 2   avg_u_kbps   165093 non-null  int64   \n",
      " 3   avg_lat_ms   165093 non-null  int64   \n",
      " 4   tests        165093 non-null  int64   \n",
      " 5   devices      165093 non-null  int64   \n",
      " 6   geometry     165093 non-null  geometry\n",
      " 7   year         165093 non-null  int64   \n",
      " 8   bb_type      165093 non-null  object  \n",
      " 9   index_right  165093 non-null  int64   \n",
      " 10  STATEFP      165093 non-null  object  \n",
      " 11  COUNTYFP     165093 non-null  object  \n",
      " 12  COUNTYNS     165093 non-null  object  \n",
      " 13  GEOID        165093 non-null  object  \n",
      " 14  NAME         165093 non-null  object  \n",
      " 15  NAMELSAD     165093 non-null  object  \n",
      " 16  LSAD         165093 non-null  object  \n",
      " 17  CLASSFP      165093 non-null  object  \n",
      " 18  MTFCC        165093 non-null  object  \n",
      " 19  CSAFP        113706 non-null  object  \n",
      " 20  CBSAFP       160093 non-null  object  \n",
      " 21  METDIVFP     22925 non-null   object  \n",
      " 22  FUNCSTAT     165093 non-null  object  \n",
      " 23  ALAND        165093 non-null  int64   \n",
      " 24  AWATER       165093 non-null  int64   \n",
      " 25  INTPTLAT     165093 non-null  object  \n",
      " 26  INTPTLON     165093 non-null  object  \n",
      "dtypes: geometry(1), int64(9), object(17)\n",
      "memory usage: 35.3+ MB\n"
     ]
    }
   ],
   "source": [
    "tiles_in_fl.info()"
   ],
   "metadata": {
    "collapsed": false,
    "pycharm": {
     "name": "#%%\n"
    }
   }
  },
  {
   "cell_type": "code",
   "execution_count": 15,
   "outputs": [
    {
     "data": {
      "text/plain": "                 quadkey  avg_d_kbps  avg_u_kbps  avg_lat_ms  tests  devices  \\\n6       0320201332021332       90726       28194          35      3        2   \n57496   0320201332301131       64730        7275          43      8        8   \n100619  0320201332032000      183112       25706          30      7        5   \n129401  0320201332213220       70138       14725          28      8        3   \n130333  0320201332121101       17722        4729          28      7        1   \n\n                                                 geometry  year bb_type  \\\n6       POLYGON ((-85.00122 29.73099, -84.99573 29.730...  2021   fixed   \n57496   POLYGON ((-84.81995 29.67851, -84.81445 29.678...  2021   fixed   \n100619  POLYGON ((-84.99023 29.72622, -84.98474 29.726...  2021   fixed   \n129401  POLYGON ((-84.94629 29.62122, -84.94080 29.621...  2021   fixed   \n130333  POLYGON ((-84.83093 29.76438, -84.82544 29.764...  2021   fixed   \n\n        index_right  ... CLASSFP  MTFCC CSAFP CBSAFP METDIVFP FUNCSTAT  \\\n6              1000  ...      H1  G4020  None   None     None        A   \n57496          1000  ...      H1  G4020  None   None     None        A   \n100619         1000  ...      H1  G4020  None   None     None        A   \n129401         1000  ...      H1  G4020  None   None     None        A   \n130333         1000  ...      H1  G4020  None   None     None        A   \n\n             ALAND      AWATER     INTPTLAT      INTPTLON  \n6       1411908392  1275539662  +29.8101756  -084.7991742  \n57496   1411908392  1275539662  +29.8101756  -084.7991742  \n100619  1411908392  1275539662  +29.8101756  -084.7991742  \n129401  1411908392  1275539662  +29.8101756  -084.7991742  \n130333  1411908392  1275539662  +29.8101756  -084.7991742  \n\n[5 rows x 27 columns]",
      "text/html": "<div>\n<style scoped>\n    .dataframe tbody tr th:only-of-type {\n        vertical-align: middle;\n    }\n\n    .dataframe tbody tr th {\n        vertical-align: top;\n    }\n\n    .dataframe thead th {\n        text-align: right;\n    }\n</style>\n<table border=\"1\" class=\"dataframe\">\n  <thead>\n    <tr style=\"text-align: right;\">\n      <th></th>\n      <th>quadkey</th>\n      <th>avg_d_kbps</th>\n      <th>avg_u_kbps</th>\n      <th>avg_lat_ms</th>\n      <th>tests</th>\n      <th>devices</th>\n      <th>geometry</th>\n      <th>year</th>\n      <th>bb_type</th>\n      <th>index_right</th>\n      <th>...</th>\n      <th>CLASSFP</th>\n      <th>MTFCC</th>\n      <th>CSAFP</th>\n      <th>CBSAFP</th>\n      <th>METDIVFP</th>\n      <th>FUNCSTAT</th>\n      <th>ALAND</th>\n      <th>AWATER</th>\n      <th>INTPTLAT</th>\n      <th>INTPTLON</th>\n    </tr>\n  </thead>\n  <tbody>\n    <tr>\n      <th>6</th>\n      <td>0320201332021332</td>\n      <td>90726</td>\n      <td>28194</td>\n      <td>35</td>\n      <td>3</td>\n      <td>2</td>\n      <td>POLYGON ((-85.00122 29.73099, -84.99573 29.730...</td>\n      <td>2021</td>\n      <td>fixed</td>\n      <td>1000</td>\n      <td>...</td>\n      <td>H1</td>\n      <td>G4020</td>\n      <td>None</td>\n      <td>None</td>\n      <td>None</td>\n      <td>A</td>\n      <td>1411908392</td>\n      <td>1275539662</td>\n      <td>+29.8101756</td>\n      <td>-084.7991742</td>\n    </tr>\n    <tr>\n      <th>57496</th>\n      <td>0320201332301131</td>\n      <td>64730</td>\n      <td>7275</td>\n      <td>43</td>\n      <td>8</td>\n      <td>8</td>\n      <td>POLYGON ((-84.81995 29.67851, -84.81445 29.678...</td>\n      <td>2021</td>\n      <td>fixed</td>\n      <td>1000</td>\n      <td>...</td>\n      <td>H1</td>\n      <td>G4020</td>\n      <td>None</td>\n      <td>None</td>\n      <td>None</td>\n      <td>A</td>\n      <td>1411908392</td>\n      <td>1275539662</td>\n      <td>+29.8101756</td>\n      <td>-084.7991742</td>\n    </tr>\n    <tr>\n      <th>100619</th>\n      <td>0320201332032000</td>\n      <td>183112</td>\n      <td>25706</td>\n      <td>30</td>\n      <td>7</td>\n      <td>5</td>\n      <td>POLYGON ((-84.99023 29.72622, -84.98474 29.726...</td>\n      <td>2021</td>\n      <td>fixed</td>\n      <td>1000</td>\n      <td>...</td>\n      <td>H1</td>\n      <td>G4020</td>\n      <td>None</td>\n      <td>None</td>\n      <td>None</td>\n      <td>A</td>\n      <td>1411908392</td>\n      <td>1275539662</td>\n      <td>+29.8101756</td>\n      <td>-084.7991742</td>\n    </tr>\n    <tr>\n      <th>129401</th>\n      <td>0320201332213220</td>\n      <td>70138</td>\n      <td>14725</td>\n      <td>28</td>\n      <td>8</td>\n      <td>3</td>\n      <td>POLYGON ((-84.94629 29.62122, -84.94080 29.621...</td>\n      <td>2021</td>\n      <td>fixed</td>\n      <td>1000</td>\n      <td>...</td>\n      <td>H1</td>\n      <td>G4020</td>\n      <td>None</td>\n      <td>None</td>\n      <td>None</td>\n      <td>A</td>\n      <td>1411908392</td>\n      <td>1275539662</td>\n      <td>+29.8101756</td>\n      <td>-084.7991742</td>\n    </tr>\n    <tr>\n      <th>130333</th>\n      <td>0320201332121101</td>\n      <td>17722</td>\n      <td>4729</td>\n      <td>28</td>\n      <td>7</td>\n      <td>1</td>\n      <td>POLYGON ((-84.83093 29.76438, -84.82544 29.764...</td>\n      <td>2021</td>\n      <td>fixed</td>\n      <td>1000</td>\n      <td>...</td>\n      <td>H1</td>\n      <td>G4020</td>\n      <td>None</td>\n      <td>None</td>\n      <td>None</td>\n      <td>A</td>\n      <td>1411908392</td>\n      <td>1275539662</td>\n      <td>+29.8101756</td>\n      <td>-084.7991742</td>\n    </tr>\n  </tbody>\n</table>\n<p>5 rows × 27 columns</p>\n</div>"
     },
     "execution_count": 15,
     "metadata": {},
     "output_type": "execute_result"
    }
   ],
   "source": [
    "df_fl.head()"
   ],
   "metadata": {
    "collapsed": false,
    "pycharm": {
     "name": "#%%\n"
    }
   }
  },
  {
   "cell_type": "code",
   "execution_count": 44,
   "outputs": [
    {
     "name": "stdout",
     "output_type": "stream",
     "text": [
      "<class 'pandas.core.frame.DataFrame'>\n",
      "Int64Index: 67 entries, 71 to 3206\n",
      "Data columns (total 18 columns):\n",
      " #   Column    Non-Null Count  Dtype   \n",
      "---  ------    --------------  -----   \n",
      " 0   STATEFP   67 non-null     object  \n",
      " 1   COUNTYFP  67 non-null     object  \n",
      " 2   COUNTYNS  67 non-null     object  \n",
      " 3   GEOID     67 non-null     object  \n",
      " 4   NAME      67 non-null     object  \n",
      " 5   NAMELSAD  67 non-null     object  \n",
      " 6   LSAD      67 non-null     object  \n",
      " 7   CLASSFP   67 non-null     object  \n",
      " 8   MTFCC     67 non-null     object  \n",
      " 9   CSAFP     35 non-null     object  \n",
      " 10  CBSAFP    51 non-null     object  \n",
      " 11  METDIVFP  3 non-null      object  \n",
      " 12  FUNCSTAT  67 non-null     object  \n",
      " 13  ALAND     67 non-null     int64   \n",
      " 14  AWATER    67 non-null     int64   \n",
      " 15  INTPTLAT  67 non-null     object  \n",
      " 16  INTPTLON  67 non-null     object  \n",
      " 17  geometry  67 non-null     geometry\n",
      "dtypes: geometry(1), int64(2), object(15)\n",
      "memory usage: 9.9+ KB\n"
     ]
    }
   ],
   "source": [
    "df_fl.info()"
   ],
   "metadata": {
    "collapsed": false,
    "pycharm": {
     "name": "#%%\n"
    }
   }
  },
  {
   "cell_type": "code",
   "execution_count": 17,
   "outputs": [],
   "source": [
    "df_fixed_yearly = df_fl.groupby(['year','bb_type','quadkey']).agg(\n",
    "    avg_d_kbps = pd.NamedAgg(column='avg_d_kbps', aggfunc='median'),\n",
    "    avg_u_kbps = pd.NamedAgg(column='avg_u_kbps', aggfunc='median'),\n",
    "    avg_lat_ms = pd.NamedAgg(column='avg_lat_ms', aggfunc='median'),\n",
    "    tests = pd.NamedAgg(column='tests', aggfunc='median'),\n",
    "    devices = pd.NamedAgg(column='devices', aggfunc='median')\n",
    ").reset_index()"
   ],
   "metadata": {
    "collapsed": false,
    "pycharm": {
     "name": "#%%\n"
    }
   }
  },
  {
   "cell_type": "code",
   "execution_count": 33,
   "outputs": [],
   "source": [
    "#df_fl['geometry'] = df_fl['geometry'].astype(str)"
   ],
   "metadata": {
    "collapsed": false,
    "pycharm": {
     "name": "#%%\n"
    }
   }
  },
  {
   "cell_type": "code",
   "execution_count": 45,
   "outputs": [],
   "source": [
    "#df_fl_fixed_yearly = pd.merge(df_fixed_yearly, df_fl, left_on='geometry', right_on='geometry', how='inner')"
   ],
   "metadata": {
    "collapsed": false,
    "pycharm": {
     "name": "#%%\n"
    }
   }
  },
  {
   "cell_type": "code",
   "execution_count": 2,
   "outputs": [
    {
     "ename": "NameError",
     "evalue": "name 'df_fixed_yearly' is not defined",
     "output_type": "error",
     "traceback": [
      "\u001B[0;31m---------------------------------------------------------------------------\u001B[0m",
      "\u001B[0;31mNameError\u001B[0m                                 Traceback (most recent call last)",
      "\u001B[0;32m<ipython-input-2-d09afc07e2a9>\u001B[0m in \u001B[0;36m<module>\u001B[0;34m\u001B[0m\n\u001B[0;32m----> 1\u001B[0;31m \u001B[0mdf_fixed_yearly\u001B[0m\u001B[0;34m.\u001B[0m\u001B[0mhead\u001B[0m\u001B[0;34m(\u001B[0m\u001B[0;34m)\u001B[0m\u001B[0;34m\u001B[0m\u001B[0;34m\u001B[0m\u001B[0m\n\u001B[0m\u001B[1;32m      2\u001B[0m \u001B[0;34m\u001B[0m\u001B[0m\n",
      "\u001B[0;31mNameError\u001B[0m: name 'df_fixed_yearly' is not defined"
     ]
    }
   ],
   "source": [
    "df_fixed_yearly.head()"
   ],
   "metadata": {
    "collapsed": false,
    "pycharm": {
     "name": "#%%\n"
    }
   }
  },
  {
   "cell_type": "code",
   "execution_count": 46,
   "outputs": [],
   "source": [],
   "metadata": {
    "collapsed": false,
    "pycharm": {
     "name": "#%%\n"
    }
   }
  },
  {
   "cell_type": "code",
   "execution_count": null,
   "outputs": [],
   "source": [],
   "metadata": {
    "collapsed": false,
    "pycharm": {
     "name": "#%%\n"
    }
   }
  }
 ],
 "metadata": {
  "kernelspec": {
   "display_name": "Python 3",
   "language": "python",
   "name": "python3"
  },
  "language_info": {
   "codemirror_mode": {
    "name": "ipython",
    "version": 2
   },
   "file_extension": ".py",
   "mimetype": "text/x-python",
   "name": "python",
   "nbconvert_exporter": "python",
   "pygments_lexer": "ipython2",
   "version": "2.7.6"
  }
 },
 "nbformat": 4,
 "nbformat_minor": 0
}