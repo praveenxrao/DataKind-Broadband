{
 "cells": [
  {
   "cell_type": "code",
   "execution_count": null,
   "outputs": [],
   "source": [
    "import os\n",
    "import glob\n",
    "import pandas as pd\n",
    "import geopandas as gp\n",
    "import numpy as np"
   ],
   "metadata": {
    "collapsed": false,
    "pycharm": {
     "name": "#%%\n"
    }
   }
  },
  {
   "cell_type": "code",
   "execution_count": null,
   "outputs": [],
   "source": [
    "os.getcwd()"
   ],
   "metadata": {
    "collapsed": false,
    "pycharm": {
     "name": "#%%\n"
    }
   }
  },
  {
   "cell_type": "code",
   "execution_count": null,
   "outputs": [],
   "source": [
    "data_dir = '../Data'"
   ],
   "metadata": {
    "collapsed": false,
    "pycharm": {
     "name": "#%%\n"
    }
   }
  },
  {
   "cell_type": "code",
   "execution_count": null,
   "outputs": [],
   "source": [
    "df = pd.read_csv(data_dir + '/' + 'ookla_combined_fl.csv')"
   ],
   "metadata": {
    "collapsed": false,
    "pycharm": {
     "name": "#%%\n"
    }
   }
  },
  {
   "cell_type": "code",
   "execution_count": null,
   "outputs": [],
   "source": [],
   "metadata": {
    "collapsed": false,
    "pycharm": {
     "name": "#%%\n"
    }
   }
  },
  {
   "cell_type": "code",
   "execution_count": null,
   "outputs": [],
   "source": [
    "df.head()"
   ],
   "metadata": {
    "collapsed": false,
    "pycharm": {
     "name": "#%%\n"
    }
   }
  },
  {
   "cell_type": "code",
   "execution_count": null,
   "outputs": [],
   "source": [
    "fcc = pd.read_csv(data_dir + '/' + 'fcc_477_census_tract_FL.csv')"
   ],
   "metadata": {
    "collapsed": false,
    "pycharm": {
     "name": "#%%\n"
    }
   }
  },
  {
   "cell_type": "code",
   "execution_count": null,
   "outputs": [],
   "source": [
    "fcc.head()"
   ],
   "metadata": {
    "collapsed": false,
    "pycharm": {
     "name": "#%%\n"
    }
   }
  },
  {
   "cell_type": "code",
   "execution_count": null,
   "outputs": [],
   "source": [
    "df2 = pd.merge(df, fcc, left_on='GEOID', right_on='tract', how='inner')"
   ],
   "metadata": {
    "collapsed": false,
    "pycharm": {
     "name": "#%%\n"
    }
   }
  },
  {
   "cell_type": "code",
   "execution_count": 51,
   "outputs": [
    {
     "data": {
      "text/plain": "           quadkey  avg_d_kbps  avg_u_kbps  avg_lat_ms  tests  devices   type  \\\n0  320201332021332       90726       28194          35      3        2  fixed   \n1  320201332021021       10732         993          24      1        1  fixed   \n2  320201332023003      171894       31378          35      8        1  fixed   \n3  320201332021323      131452       22349          34      6        4  fixed   \n4  320201332021210       98843        8507          30      4        1  fixed   \n\n  quarter  year  STATEFP  ...    AWATER  \\\n0      Q1  2021       12  ...  58611667   \n1      Q1  2021       12  ...  58611667   \n2      Q1  2021       12  ...  58611667   \n3      Q1  2021       12  ...  58611667   \n4      Q1  2021       12  ...  58611667   \n\n                                                tile        tract      max_dn  \\\n0  list(c(-85.001220703125, -84.9957275390625, -8...  12037970302  854.770992   \n1  list(c(-85.0286865234375, -85.023193359375, -8...  12037970302  854.770992   \n2  list(c(-85.0286865234375, -85.023193359375, -8...  12037970302  854.770992   \n3  list(c(-85.0067138671875, -85.001220703125, -8...  12037970302  854.770992   \n4  list(c(-85.023193359375, -85.0177001953125, -8...  12037970302  854.770992   \n\n      max_up     dn10     dn100     dn250 fiber_100u  state  \n0  43.828244  2.78626  0.946565  0.847328        0.0     12  \n1  43.828244  2.78626  0.946565  0.847328        0.0     12  \n2  43.828244  2.78626  0.946565  0.847328        0.0     12  \n3  43.828244  2.78626  0.946565  0.847328        0.0     12  \n4  43.828244  2.78626  0.946565  0.847328        0.0     12  \n\n[5 rows x 27 columns]",
      "text/html": "<div>\n<style scoped>\n    .dataframe tbody tr th:only-of-type {\n        vertical-align: middle;\n    }\n\n    .dataframe tbody tr th {\n        vertical-align: top;\n    }\n\n    .dataframe thead th {\n        text-align: right;\n    }\n</style>\n<table border=\"1\" class=\"dataframe\">\n  <thead>\n    <tr style=\"text-align: right;\">\n      <th></th>\n      <th>quadkey</th>\n      <th>avg_d_kbps</th>\n      <th>avg_u_kbps</th>\n      <th>avg_lat_ms</th>\n      <th>tests</th>\n      <th>devices</th>\n      <th>type</th>\n      <th>quarter</th>\n      <th>year</th>\n      <th>STATEFP</th>\n      <th>...</th>\n      <th>AWATER</th>\n      <th>tile</th>\n      <th>tract</th>\n      <th>max_dn</th>\n      <th>max_up</th>\n      <th>dn10</th>\n      <th>dn100</th>\n      <th>dn250</th>\n      <th>fiber_100u</th>\n      <th>state</th>\n    </tr>\n  </thead>\n  <tbody>\n    <tr>\n      <th>0</th>\n      <td>320201332021332</td>\n      <td>90726</td>\n      <td>28194</td>\n      <td>35</td>\n      <td>3</td>\n      <td>2</td>\n      <td>fixed</td>\n      <td>Q1</td>\n      <td>2021</td>\n      <td>12</td>\n      <td>...</td>\n      <td>58611667</td>\n      <td>list(c(-85.001220703125, -84.9957275390625, -8...</td>\n      <td>12037970302</td>\n      <td>854.770992</td>\n      <td>43.828244</td>\n      <td>2.78626</td>\n      <td>0.946565</td>\n      <td>0.847328</td>\n      <td>0.0</td>\n      <td>12</td>\n    </tr>\n    <tr>\n      <th>1</th>\n      <td>320201332021021</td>\n      <td>10732</td>\n      <td>993</td>\n      <td>24</td>\n      <td>1</td>\n      <td>1</td>\n      <td>fixed</td>\n      <td>Q1</td>\n      <td>2021</td>\n      <td>12</td>\n      <td>...</td>\n      <td>58611667</td>\n      <td>list(c(-85.0286865234375, -85.023193359375, -8...</td>\n      <td>12037970302</td>\n      <td>854.770992</td>\n      <td>43.828244</td>\n      <td>2.78626</td>\n      <td>0.946565</td>\n      <td>0.847328</td>\n      <td>0.0</td>\n      <td>12</td>\n    </tr>\n    <tr>\n      <th>2</th>\n      <td>320201332023003</td>\n      <td>171894</td>\n      <td>31378</td>\n      <td>35</td>\n      <td>8</td>\n      <td>1</td>\n      <td>fixed</td>\n      <td>Q1</td>\n      <td>2021</td>\n      <td>12</td>\n      <td>...</td>\n      <td>58611667</td>\n      <td>list(c(-85.0286865234375, -85.023193359375, -8...</td>\n      <td>12037970302</td>\n      <td>854.770992</td>\n      <td>43.828244</td>\n      <td>2.78626</td>\n      <td>0.946565</td>\n      <td>0.847328</td>\n      <td>0.0</td>\n      <td>12</td>\n    </tr>\n    <tr>\n      <th>3</th>\n      <td>320201332021323</td>\n      <td>131452</td>\n      <td>22349</td>\n      <td>34</td>\n      <td>6</td>\n      <td>4</td>\n      <td>fixed</td>\n      <td>Q1</td>\n      <td>2021</td>\n      <td>12</td>\n      <td>...</td>\n      <td>58611667</td>\n      <td>list(c(-85.0067138671875, -85.001220703125, -8...</td>\n      <td>12037970302</td>\n      <td>854.770992</td>\n      <td>43.828244</td>\n      <td>2.78626</td>\n      <td>0.946565</td>\n      <td>0.847328</td>\n      <td>0.0</td>\n      <td>12</td>\n    </tr>\n    <tr>\n      <th>4</th>\n      <td>320201332021210</td>\n      <td>98843</td>\n      <td>8507</td>\n      <td>30</td>\n      <td>4</td>\n      <td>1</td>\n      <td>fixed</td>\n      <td>Q1</td>\n      <td>2021</td>\n      <td>12</td>\n      <td>...</td>\n      <td>58611667</td>\n      <td>list(c(-85.023193359375, -85.0177001953125, -8...</td>\n      <td>12037970302</td>\n      <td>854.770992</td>\n      <td>43.828244</td>\n      <td>2.78626</td>\n      <td>0.946565</td>\n      <td>0.847328</td>\n      <td>0.0</td>\n      <td>12</td>\n    </tr>\n  </tbody>\n</table>\n<p>5 rows × 27 columns</p>\n</div>"
     },
     "execution_count": 51,
     "metadata": {},
     "output_type": "execute_result"
    }
   ],
   "source": [
    "df2.head()"
   ],
   "metadata": {
    "collapsed": false,
    "pycharm": {
     "name": "#%%\n"
    }
   }
  },
  {
   "cell_type": "code",
   "execution_count": null,
   "outputs": [],
   "source": [
    "df2_f = df2[df2['type'] == 'fixed']"
   ],
   "metadata": {
    "collapsed": false,
    "pycharm": {
     "name": "#%%\n"
    }
   }
  },
  {
   "cell_type": "code",
   "execution_count": 49,
   "outputs": [
    {
     "name": "stdout",
     "output_type": "stream",
     "text": [
      "Avg_d_kbps for 2021/FL: 180304.72159707\n",
      "Avg_u_kbps for 2021/FL: 55861.63252433658\n"
     ]
    }
   ],
   "source": [
    "# weighted avg by tests\n",
    "print(f'Avg_d_kbps for 2021/FL: ' + str(np.average(df2_f['avg_d_kbps'], weights=df2_f['tests'])))\n",
    "print(f'Avg_u_kbps for 2021/FL: ' + str(np.average(df2_f['avg_u_kbps'], weights=df2_f['tests'])))"
   ],
   "metadata": {
    "collapsed": false,
    "pycharm": {
     "name": "#%%\n"
    }
   }
  },
  {
   "cell_type": "code",
   "execution_count": null,
   "outputs": [],
   "source": [
    "np.average(df2_f['avg_d_kbps'], weights=df2_f['devices'])"
   ],
   "metadata": {
    "collapsed": false,
    "pycharm": {
     "name": "#%%\n"
    }
   }
  },
  {
   "cell_type": "code",
   "execution_count": null,
   "outputs": [],
   "source": [
    "df2_f['avg_d_kbps'].mean()"
   ],
   "metadata": {
    "collapsed": false,
    "pycharm": {
     "name": "#%%\n"
    }
   }
  },
  {
   "cell_type": "code",
   "execution_count": null,
   "outputs": [],
   "source": [
    "wm = lambda x: np.average(x, weights=df2.loc[x.index, 'tests'])"
   ],
   "metadata": {
    "collapsed": false,
    "pycharm": {
     "name": "#%%\n"
    }
   }
  },
  {
   "cell_type": "code",
   "execution_count": 50,
   "outputs": [
    {
     "data": {
      "text/plain": "                        d_kbps_wm     u_kbps_wm\nGEOID       type                               \n12001000200 fixed   144171.767327  65634.153465\n            mobile   81147.314199  10703.090634\n12001000301 fixed   118863.923445  10656.119617\n            mobile   45877.830769  11726.815385\n12001000302 fixed   152127.653061  17838.122449\n...                           ...           ...\n12133970301 mobile   29629.468085   6471.819149\n12133970302 fixed   284073.263736  27842.417582\n            mobile   42524.952542   5469.349153\n12133970303 fixed    27147.843750   6073.843750\n            mobile   42796.979021   6470.307692\n\n[8186 rows x 2 columns]",
      "text/html": "<div>\n<style scoped>\n    .dataframe tbody tr th:only-of-type {\n        vertical-align: middle;\n    }\n\n    .dataframe tbody tr th {\n        vertical-align: top;\n    }\n\n    .dataframe thead th {\n        text-align: right;\n    }\n</style>\n<table border=\"1\" class=\"dataframe\">\n  <thead>\n    <tr style=\"text-align: right;\">\n      <th></th>\n      <th></th>\n      <th>d_kbps_wm</th>\n      <th>u_kbps_wm</th>\n    </tr>\n    <tr>\n      <th>GEOID</th>\n      <th>type</th>\n      <th></th>\n      <th></th>\n    </tr>\n  </thead>\n  <tbody>\n    <tr>\n      <th rowspan=\"2\" valign=\"top\">12001000200</th>\n      <th>fixed</th>\n      <td>144171.767327</td>\n      <td>65634.153465</td>\n    </tr>\n    <tr>\n      <th>mobile</th>\n      <td>81147.314199</td>\n      <td>10703.090634</td>\n    </tr>\n    <tr>\n      <th rowspan=\"2\" valign=\"top\">12001000301</th>\n      <th>fixed</th>\n      <td>118863.923445</td>\n      <td>10656.119617</td>\n    </tr>\n    <tr>\n      <th>mobile</th>\n      <td>45877.830769</td>\n      <td>11726.815385</td>\n    </tr>\n    <tr>\n      <th>12001000302</th>\n      <th>fixed</th>\n      <td>152127.653061</td>\n      <td>17838.122449</td>\n    </tr>\n    <tr>\n      <th>...</th>\n      <th>...</th>\n      <td>...</td>\n      <td>...</td>\n    </tr>\n    <tr>\n      <th>12133970301</th>\n      <th>mobile</th>\n      <td>29629.468085</td>\n      <td>6471.819149</td>\n    </tr>\n    <tr>\n      <th rowspan=\"2\" valign=\"top\">12133970302</th>\n      <th>fixed</th>\n      <td>284073.263736</td>\n      <td>27842.417582</td>\n    </tr>\n    <tr>\n      <th>mobile</th>\n      <td>42524.952542</td>\n      <td>5469.349153</td>\n    </tr>\n    <tr>\n      <th rowspan=\"2\" valign=\"top\">12133970303</th>\n      <th>fixed</th>\n      <td>27147.843750</td>\n      <td>6073.843750</td>\n    </tr>\n    <tr>\n      <th>mobile</th>\n      <td>42796.979021</td>\n      <td>6470.307692</td>\n    </tr>\n  </tbody>\n</table>\n<p>8186 rows × 2 columns</p>\n</div>"
     },
     "execution_count": 50,
     "metadata": {},
     "output_type": "execute_result"
    }
   ],
   "source": [
    "df2.groupby(['GEOID','type']).agg(\n",
    "    d_kbps_wm = ('avg_d_kbps', wm),\n",
    "    u_kbps_wm = ('avg_u_kbps', wm)\n",
    ")"
   ],
   "metadata": {
    "collapsed": false,
    "pycharm": {
     "name": "#%%\n"
    }
   }
  },
  {
   "cell_type": "code",
   "execution_count": null,
   "outputs": [],
   "source": [],
   "metadata": {
    "collapsed": false,
    "pycharm": {
     "name": "#%%\n"
    }
   }
  }
 ],
 "metadata": {
  "kernelspec": {
   "display_name": "Python 3",
   "language": "python",
   "name": "python3"
  },
  "language_info": {
   "codemirror_mode": {
    "name": "ipython",
    "version": 2
   },
   "file_extension": ".py",
   "mimetype": "text/x-python",
   "name": "python",
   "nbconvert_exporter": "python",
   "pygments_lexer": "ipython2",
   "version": "2.7.6"
  }
 },
 "nbformat": 4,
 "nbformat_minor": 0
}